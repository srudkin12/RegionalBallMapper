{
  "nbformat": 4,
  "nbformat_minor": 0,
  "metadata": {
    "colab": {
      "name": "Session 4 Colab.ipynb",
      "provenance": [],
      "authorship_tag": "ABX9TyO2dRzL4BlBM51yjRm4c2hO",
      "include_colab_link": true
    },
    "kernelspec": {
      "name": "ir",
      "display_name": "R"
    },
    "language_info": {
      "name": "R"
    },
    "gpuClass": "standard"
  },
  "cells": [
    {
      "cell_type": "markdown",
      "metadata": {
        "id": "view-in-github",
        "colab_type": "text"
      },
      "source": [
        "<a href=\"https://colab.research.google.com/github/srudkin12/RegionalBallMapper/blob/main/Session_4_Colab.ipynb\" target=\"_parent\"><img src=\"https://colab.research.google.com/assets/colab-badge.svg\" alt=\"Open In Colab\"/></a>"
      ]
    },
    {
      "cell_type": "markdown",
      "source": [
        "# **Session 4**\n",
        "\n",
        "Session 4 of the Topological Data Analysis Ball Mapper for Regional Analysis workshop is designed to be an informal look at some of the further functionality of BallMapper and a chance for participants to have a look at their own data. \n",
        "\n",
        "This notebook contains the results on regressions and the visualisation of residuals using BallMapper. Again you are encouraged to use this notebook in conjunction with the commentary file.\n",
        "\n",
        "Because this is a separate Colab notebook we need to install the packages and read in the data. The following block of code completes these steps."
      ],
      "metadata": {
        "id": "rQLklCCRNMe3"
      }
    },
    {
      "cell_type": "code",
      "execution_count": 2,
      "metadata": {
        "colab": {
          "base_uri": "https://localhost:8080/"
        },
        "id": "woBdk35mNKWY",
        "outputId": "48c7720c-822b-4996-d5b8-166a52e6693b"
      },
      "outputs": [
        {
          "output_type": "stream",
          "name": "stderr",
          "text": [
            "Installing package into ‘/usr/local/lib/R/site-library’\n",
            "(as ‘lib’ is unspecified)\n",
            "\n",
            "Installing package into ‘/usr/local/lib/R/site-library’\n",
            "(as ‘lib’ is unspecified)\n",
            "\n",
            "Installing package into ‘/usr/local/lib/R/site-library’\n",
            "(as ‘lib’ is unspecified)\n",
            "\n",
            "also installing the dependencies ‘numDeriv’, ‘SparseM’, ‘MatrixModels’, ‘sp’, ‘minqa’, ‘nloptr’, ‘Rcpp’, ‘RcppEigen’, ‘carData’, ‘abind’, ‘pbkrtest’, ‘quantreg’, ‘maptools’, ‘lme4’\n",
            "\n",
            "\n",
            "Loading required package: carData\n",
            "\n",
            "\n",
            "Attaching package: ‘car’\n",
            "\n",
            "\n",
            "The following object is masked from ‘package:dplyr’:\n",
            "\n",
            "    recode\n",
            "\n",
            "\n"
          ]
        }
      ],
      "source": [
        "install.packages(\"dplyr\")\n",
        "install.packages(\"BallMapper\")\n",
        "install.packages(\"car\")\n",
        "library(dplyr)\n",
        "library(BallMapper)\n",
        "library(car)\n",
        "\n",
        "url = 'https://raw.githubusercontent.com/srudkin12/RegionalBallMapper/main/region1.csv'\n",
        "dtx<-read.table(url,sep=\",\",header=TRUE)\n"
      ]
    },
    {
      "cell_type": "markdown",
      "source": [
        "We now create our subset of variables as in Session 3"
      ],
      "metadata": {
        "id": "tjTp43FAR8qu"
      }
    },
    {
      "cell_type": "code",
      "source": [
        "dty<-cbind(dtx[,1:2],dtx$QualLevel4,dtx$Deprivation0,dtx$Accommodation,dtx$Married,dtx$HealthVeryGood,dtx$OwnedMortgage)\n",
        "names(dty)<-c(\"geog\",\"geogcode\",\"QualLevel4\",\"Deprivation0\",\"Accommodation\",\"Married\",\"HealthVeryGood\",\"OwnedMortgage\")\n",
        "dty$QL4<-as.numeric(dty$QualLevel4>33) # Areas where more than 1/3rd have Degrees"
      ],
      "metadata": {
        "id": "KK9NC0ahQO83"
      },
      "execution_count": 3,
      "outputs": []
    },
    {
      "cell_type": "markdown",
      "source": [
        "In many regional datasets there are issues with strong correlations between variables. Therefore we must perform checks for multicollinearity\n",
        "\n",
        "We first check for correlations of 0.7 or above"
      ],
      "metadata": {
        "id": "M08w0sMISJPW"
      }
    },
    {
      "cell_type": "code",
      "source": [
        "cor(dty[,3:9])"
      ],
      "metadata": {
        "colab": {
          "base_uri": "https://localhost:8080/",
          "height": 286
        },
        "id": "VgrbjomNSBU0",
        "outputId": "8f16299c-d6d9-456e-f22a-490e4fa020a8"
      },
      "execution_count": 4,
      "outputs": [
        {
          "output_type": "display_data",
          "data": {
            "text/html": [
              "<table class=\"dataframe\">\n",
              "<caption>A matrix: 7 × 7 of type dbl</caption>\n",
              "<thead>\n",
              "\t<tr><th></th><th scope=col>QualLevel4</th><th scope=col>Deprivation0</th><th scope=col>Accommodation</th><th scope=col>Married</th><th scope=col>HealthVeryGood</th><th scope=col>OwnedMortgage</th><th scope=col>QL4</th></tr>\n",
              "</thead>\n",
              "<tbody>\n",
              "\t<tr><th scope=row>QualLevel4</th><td> 1.00000000</td><td> 0.5567067</td><td> 0.03445113</td><td>-0.15119122</td><td> 0.83737769</td><td>-0.27369213</td><td> 0.75816744</td></tr>\n",
              "\t<tr><th scope=row>Deprivation0</th><td> 0.55670673</td><td> 1.0000000</td><td>-0.33698590</td><td> 0.58474351</td><td> 0.64301390</td><td> 0.45302641</td><td> 0.35214189</td></tr>\n",
              "\t<tr><th scope=row>Accommodation</th><td> 0.03445113</td><td>-0.3369859</td><td> 1.00000000</td><td>-0.26588049</td><td>-0.12868400</td><td>-0.66039840</td><td> 0.06835404</td></tr>\n",
              "\t<tr><th scope=row>Married</th><td>-0.15119122</td><td> 0.5847435</td><td>-0.26588049</td><td> 1.00000000</td><td>-0.07519867</td><td> 0.56762522</td><td>-0.14797639</td></tr>\n",
              "\t<tr><th scope=row>HealthVeryGood</th><td> 0.83737769</td><td> 0.6430139</td><td>-0.12868400</td><td>-0.07519867</td><td> 1.00000000</td><td> 0.02783632</td><td> 0.63394502</td></tr>\n",
              "\t<tr><th scope=row>OwnedMortgage</th><td>-0.27369213</td><td> 0.4530264</td><td>-0.66039840</td><td> 0.56762522</td><td> 0.02783632</td><td> 1.00000000</td><td>-0.23117919</td></tr>\n",
              "\t<tr><th scope=row>QL4</th><td> 0.75816744</td><td> 0.3521419</td><td> 0.06835404</td><td>-0.14797639</td><td> 0.63394502</td><td>-0.23117919</td><td> 1.00000000</td></tr>\n",
              "</tbody>\n",
              "</table>\n"
            ],
            "text/markdown": "\nA matrix: 7 × 7 of type dbl\n\n| <!--/--> | QualLevel4 | Deprivation0 | Accommodation | Married | HealthVeryGood | OwnedMortgage | QL4 |\n|---|---|---|---|---|---|---|---|\n| QualLevel4 |  1.00000000 |  0.5567067 |  0.03445113 | -0.15119122 |  0.83737769 | -0.27369213 |  0.75816744 |\n| Deprivation0 |  0.55670673 |  1.0000000 | -0.33698590 |  0.58474351 |  0.64301390 |  0.45302641 |  0.35214189 |\n| Accommodation |  0.03445113 | -0.3369859 |  1.00000000 | -0.26588049 | -0.12868400 | -0.66039840 |  0.06835404 |\n| Married | -0.15119122 |  0.5847435 | -0.26588049 |  1.00000000 | -0.07519867 |  0.56762522 | -0.14797639 |\n| HealthVeryGood |  0.83737769 |  0.6430139 | -0.12868400 | -0.07519867 |  1.00000000 |  0.02783632 |  0.63394502 |\n| OwnedMortgage | -0.27369213 |  0.4530264 | -0.66039840 |  0.56762522 |  0.02783632 |  1.00000000 | -0.23117919 |\n| QL4 |  0.75816744 |  0.3521419 |  0.06835404 | -0.14797639 |  0.63394502 | -0.23117919 |  1.00000000 |\n\n",
            "text/latex": "A matrix: 7 × 7 of type dbl\n\\begin{tabular}{r|lllllll}\n  & QualLevel4 & Deprivation0 & Accommodation & Married & HealthVeryGood & OwnedMortgage & QL4\\\\\n\\hline\n\tQualLevel4 &  1.00000000 &  0.5567067 &  0.03445113 & -0.15119122 &  0.83737769 & -0.27369213 &  0.75816744\\\\\n\tDeprivation0 &  0.55670673 &  1.0000000 & -0.33698590 &  0.58474351 &  0.64301390 &  0.45302641 &  0.35214189\\\\\n\tAccommodation &  0.03445113 & -0.3369859 &  1.00000000 & -0.26588049 & -0.12868400 & -0.66039840 &  0.06835404\\\\\n\tMarried & -0.15119122 &  0.5847435 & -0.26588049 &  1.00000000 & -0.07519867 &  0.56762522 & -0.14797639\\\\\n\tHealthVeryGood &  0.83737769 &  0.6430139 & -0.12868400 & -0.07519867 &  1.00000000 &  0.02783632 &  0.63394502\\\\\n\tOwnedMortgage & -0.27369213 &  0.4530264 & -0.66039840 &  0.56762522 &  0.02783632 &  1.00000000 & -0.23117919\\\\\n\tQL4 &  0.75816744 &  0.3521419 &  0.06835404 & -0.14797639 &  0.63394502 & -0.23117919 &  1.00000000\\\\\n\\end{tabular}\n",
            "text/plain": [
              "               QualLevel4  Deprivation0 Accommodation Married    \n",
              "QualLevel4      1.00000000  0.5567067    0.03445113   -0.15119122\n",
              "Deprivation0    0.55670673  1.0000000   -0.33698590    0.58474351\n",
              "Accommodation   0.03445113 -0.3369859    1.00000000   -0.26588049\n",
              "Married        -0.15119122  0.5847435   -0.26588049    1.00000000\n",
              "HealthVeryGood  0.83737769  0.6430139   -0.12868400   -0.07519867\n",
              "OwnedMortgage  -0.27369213  0.4530264   -0.66039840    0.56762522\n",
              "QL4             0.75816744  0.3521419    0.06835404   -0.14797639\n",
              "               HealthVeryGood OwnedMortgage QL4        \n",
              "QualLevel4      0.83737769    -0.27369213    0.75816744\n",
              "Deprivation0    0.64301390     0.45302641    0.35214189\n",
              "Accommodation  -0.12868400    -0.66039840    0.06835404\n",
              "Married        -0.07519867     0.56762522   -0.14797639\n",
              "HealthVeryGood  1.00000000     0.02783632    0.63394502\n",
              "OwnedMortgage   0.02783632     1.00000000   -0.23117919\n",
              "QL4             0.63394502    -0.23117919    1.00000000"
            ]
          },
          "metadata": {}
        }
      ]
    },
    {
      "cell_type": "markdown",
      "source": [
        "The highest absolute correlation is -0.660 between OwnedMortgage and Accommodation. This does not exceed the 0.7 threshold in absolute value\n",
        "\n",
        "The second approach is to use the variance inflation function. If you are unsure of the role of the VIF then please consult statistics books or web resources. For our purposes we are interested in whether there is a VIF above 10"
      ],
      "metadata": {
        "id": "_8AtnQARSkVu"
      }
    },
    {
      "cell_type": "code",
      "source": [
        "lm1<-lm(QualLevel4~Deprivation0+Accommodation+Married+HealthVeryGood+OwnedMortgage,data=dty)\n",
        "vif(lm1)"
      ],
      "metadata": {
        "colab": {
          "base_uri": "https://localhost:8080/",
          "height": 34
        },
        "id": "5MBGF1YwSVA_",
        "outputId": "003e0fb7-f4cb-44e4-e882-d089f65b0769"
      },
      "execution_count": 6,
      "outputs": [
        {
          "output_type": "display_data",
          "data": {
            "text/html": [
              "<style>\n",
              ".dl-inline {width: auto; margin:0; padding: 0}\n",
              ".dl-inline>dt, .dl-inline>dd {float: none; width: auto; display: inline-block}\n",
              ".dl-inline>dt::after {content: \":\\0020\"; padding-right: .5ex}\n",
              ".dl-inline>dt:not(:first-of-type) {padding-left: .5ex}\n",
              "</style><dl class=dl-inline><dt>Deprivation0</dt><dd>5.73135419990496</dd><dt>Accommodation</dt><dd>1.87445290605612</dd><dt>Married</dt><dd>3.47535835348668</dd><dt>HealthVeryGood</dt><dd>3.6709443743197</dd><dt>OwnedMortgage</dt><dd>2.54074195876479</dd></dl>\n"
            ],
            "text/markdown": "Deprivation0\n:   5.73135419990496Accommodation\n:   1.87445290605612Married\n:   3.47535835348668HealthVeryGood\n:   3.6709443743197OwnedMortgage\n:   2.54074195876479\n\n",
            "text/latex": "\\begin{description*}\n\\item[Deprivation0] 5.73135419990496\n\\item[Accommodation] 1.87445290605612\n\\item[Married] 3.47535835348668\n\\item[HealthVeryGood] 3.6709443743197\n\\item[OwnedMortgage] 2.54074195876479\n\\end{description*}\n",
            "text/plain": [
              "  Deprivation0  Accommodation        Married HealthVeryGood  OwnedMortgage \n",
              "      5.731354       1.874453       3.475358       3.670944       2.540742 "
            ]
          },
          "metadata": {}
        }
      ]
    },
    {
      "cell_type": "markdown",
      "source": [
        "The highest VIF is well below the 10 threshold and so we will continue to use the lm1 model.\n",
        "\n",
        "We can produce a summary of the model using the following line of code:"
      ],
      "metadata": {
        "id": "OIDM77pwWYqV"
      }
    },
    {
      "cell_type": "code",
      "source": [
        "summary(lm1)"
      ],
      "metadata": {
        "colab": {
          "base_uri": "https://localhost:8080/",
          "height": 416
        },
        "id": "bWotdOslTEMc",
        "outputId": "1f699030-1af9-4bc0-af88-63671c680e5b"
      },
      "execution_count": 7,
      "outputs": [
        {
          "output_type": "display_data",
          "data": {
            "text/plain": [
              "\n",
              "Call:\n",
              "lm(formula = QualLevel4 ~ Deprivation0 + Accommodation + Married + \n",
              "    HealthVeryGood + OwnedMortgage, data = dty)\n",
              "\n",
              "Residuals:\n",
              "    Min      1Q  Median      3Q     Max \n",
              "-9.8954 -1.7347 -0.0764  1.7694 15.3443 \n",
              "\n",
              "Coefficients:\n",
              "                Estimate Std. Error t value Pr(>|t|)    \n",
              "(Intercept)    -13.67329    3.81260  -3.586 0.000384 ***\n",
              "Deprivation0     0.69207    0.05928  11.674  < 2e-16 ***\n",
              "Accommodation   -0.38520    0.11170  -3.448 0.000634 ***\n",
              "Married         -0.22090    0.04409  -5.010 8.75e-07 ***\n",
              "HealthVeryGood   1.00547    0.08335  12.063  < 2e-16 ***\n",
              "OwnedMortgage   -0.72279    0.04655 -15.528  < 2e-16 ***\n",
              "---\n",
              "Signif. codes:  0 ‘***’ 0.001 ‘**’ 0.01 ‘*’ 0.05 ‘.’ 0.1 ‘ ’ 1\n",
              "\n",
              "Residual standard error: 2.924 on 342 degrees of freedom\n",
              "Multiple R-squared:  0.8621,\tAdjusted R-squared:  0.8601 \n",
              "F-statistic: 427.7 on 5 and 342 DF,  p-value: < 2.2e-16\n"
            ]
          },
          "metadata": {}
        }
      ]
    },
    {
      "cell_type": "markdown",
      "source": [
        "We will now use the fitted() function to create a new column of fitted values from the model lm1. This is stored as fit1. "
      ],
      "metadata": {
        "id": "iLW2rBsZXsMs"
      }
    },
    {
      "cell_type": "code",
      "source": [
        "dty$fit1<-fitted(lm1)"
      ],
      "metadata": {
        "id": "3LN1wCr-Wpll"
      },
      "execution_count": 8,
      "outputs": []
    },
    {
      "cell_type": "markdown",
      "source": [
        "We may create a column of residuals by subtracting the fitted value from the true value of QualLevel4"
      ],
      "metadata": {
        "id": "EG6s_6BUYsKj"
      }
    },
    {
      "cell_type": "code",
      "source": [
        "dty$res1<-dty$QualLevel4-dty$fit1"
      ],
      "metadata": {
        "id": "0qdHKEVoZJ0L"
      },
      "execution_count": 10,
      "outputs": []
    },
    {
      "cell_type": "markdown",
      "source": [
        "Now we have two extra outcomes to colour our BallMapper plot. The following code is built from the block in Session 3, but also includes the two new outputs. Notice that we also create the characteristics as a separate data.frame and then normalise using the function in the BallMapper package"
      ],
      "metadata": {
        "id": "DA40dzTDYsWr"
      }
    },
    {
      "cell_type": "code",
      "source": [
        "y1<-as.data.frame(dty$QualLevel4)\n",
        "y2<-as.data.frame(dty$QL4)\n",
        "y3<-as.data.frame(dty$fit1)\n",
        "y4<-as.data.frame(dty$res1)\n",
        "\n",
        "x1<-as.data.frame(dty[,4:8])\n",
        "\n",
        "x2<-normalize_to_min_0_max_1(x1)"
      ],
      "metadata": {
        "id": "IxqksaEeY8_a"
      },
      "execution_count": 11,
      "outputs": []
    },
    {
      "cell_type": "markdown",
      "source": [
        "Let us now produce three BallMapper plots. One of the true value (t), one of the fitted values (f) and one of the residuals (r). Here we continue with the 0.3 radius identified in Session 3.\n",
        "\n",
        "Note that the code does not actually plot the BallMapper graphs so there will be no output"
      ],
      "metadata": {
        "id": "c3H70vqVZScz"
      }
    },
    {
      "cell_type": "code",
      "source": [
        "bm130t<-BallMapper(x2,y1,0.3)\n",
        "bm130f<-BallMapper(x2,y3,0.3) \n",
        "bm130r<-BallMapper(x2,y4,0.3)  "
      ],
      "metadata": {
        "id": "HcHrVxpuZQYa"
      },
      "execution_count": 12,
      "outputs": []
    },
    {
      "cell_type": "markdown",
      "source": [
        "We may plot the BallMapper graphs using the plot function. Again to see the others the code may be slightly edited to replace the letter after bm130"
      ],
      "metadata": {
        "id": "fn_kVn4OadEr"
      }
    },
    {
      "cell_type": "code",
      "source": [
        "ColorIgraphPlot(bm130r,seed_for_plotting=123)"
      ],
      "metadata": {
        "colab": {
          "base_uri": "https://localhost:8080/",
          "height": 437
        },
        "id": "6oYkkFK2ZjLK",
        "outputId": "6acf91fd-07e1-4af1-a4ca-fadf150648c5"
      },
      "execution_count": 13,
      "outputs": [
        {
          "output_type": "display_data",
          "data": {
            "text/plain": [
              "Plot with title “”"
            ],
            "image/png": "[encoded data removed]"
          },
          "metadata": {
            "image/png": {
              "width": 420,
              "height": 420
            }
          }
        }
      ]
    },
    {
      "cell_type": "markdown",
      "source": [
        "An interesting result emerges here because the residuals are all positive on the edges of the graph, the main body has residuals near 0 as would be expected. The only strong negative residual appears in the outlier\n",
        "\n",
        "We will now bring in the user defined function points_to_balls and follow the same steps as in Session 3 to identify the local authority districts in ball 16"
      ],
      "metadata": {
        "id": "32sSy0YpbSla"
      }
    },
    {
      "cell_type": "code",
      "source": [
        "dty$pt<-seq(1:nrow(dty))\n",
        "\n",
        "points_to_balls<-function(l){\n",
        "  a001<-length(l$landmarks)\n",
        "  a1<-matrix(0,nrow=a001,ncol=2)\n",
        "  a1<-as.data.frame(a1)\n",
        "  names(a1)<-c(\"pt\",\"ball\")\n",
        "  for(i in 1:a001){\n",
        "    a<-as.data.frame(l$points_covered_by_landmarks[i])\n",
        "    names(a)<-\"pt\"\n",
        "    a$ball<-i\n",
        "    a1<-rbind.data.frame(a1,a)\n",
        "   }\n",
        "  a1<-a1[2:nrow(a1),]\n",
        "  return(a1)\n",
        "}\n",
        "\n",
        "bmp1<-points_to_balls(bm130r)\n",
        "bmp1<-as.data.frame(bmp1)\n",
        "names(bmp1)<-c(\"pt\",\"ball\")\n",
        "\n",
        "dtz<-merge(dty,bmp1,by=\"pt\")\n",
        "\n",
        "dtz16<-subset(dtz,dtz$ball==16)\n",
        "dtz16"
      ],
      "metadata": {
        "colab": {
          "base_uri": "https://localhost:8080/",
          "height": 129
        },
        "id": "xl7tq6y2bIxR",
        "outputId": "64a5e441-4a36-4640-8a36-6bf508224fd9"
      },
      "execution_count": 14,
      "outputs": [
        {
          "output_type": "display_data",
          "data": {
            "text/html": [
              "<table class=\"dataframe\">\n",
              "<caption>A data.frame: 1 × 13</caption>\n",
              "<thead>\n",
              "\t<tr><th></th><th scope=col>pt</th><th scope=col>geog</th><th scope=col>geogcode</th><th scope=col>QualLevel4</th><th scope=col>Deprivation0</th><th scope=col>Accommodation</th><th scope=col>Married</th><th scope=col>HealthVeryGood</th><th scope=col>OwnedMortgage</th><th scope=col>QL4</th><th scope=col>fit1</th><th scope=col>res1</th><th scope=col>ball</th></tr>\n",
              "\t<tr><th></th><th scope=col>&lt;int&gt;</th><th scope=col>&lt;chr&gt;</th><th scope=col>&lt;chr&gt;</th><th scope=col>&lt;dbl&gt;</th><th scope=col>&lt;dbl&gt;</th><th scope=col>&lt;dbl&gt;</th><th scope=col>&lt;dbl&gt;</th><th scope=col>&lt;dbl&gt;</th><th scope=col>&lt;dbl&gt;</th><th scope=col>&lt;dbl&gt;</th><th scope=col>&lt;dbl&gt;</th><th scope=col>&lt;dbl&gt;</th><th scope=col>&lt;dbl&gt;</th></tr>\n",
              "</thead>\n",
              "<tbody>\n",
              "\t<tr><th scope=row>325</th><td>150</td><td>Isles of Scilly</td><td>E06000053</td><td>33.01023</td><td>38.42265</td><td>23.8749</td><td>53.63942</td><td>51.52065</td><td>10.01011</td><td>1</td><td>36.43936</td><td>-3.429131</td><td>16</td></tr>\n",
              "</tbody>\n",
              "</table>\n"
            ],
            "text/markdown": "\nA data.frame: 1 × 13\n\n| <!--/--> | pt &lt;int&gt; | geog &lt;chr&gt; | geogcode &lt;chr&gt; | QualLevel4 &lt;dbl&gt; | Deprivation0 &lt;dbl&gt; | Accommodation &lt;dbl&gt; | Married &lt;dbl&gt; | HealthVeryGood &lt;dbl&gt; | OwnedMortgage &lt;dbl&gt; | QL4 &lt;dbl&gt; | fit1 &lt;dbl&gt; | res1 &lt;dbl&gt; | ball &lt;dbl&gt; |\n|---|---|---|---|---|---|---|---|---|---|---|---|---|---|\n| 325 | 150 | Isles of Scilly | E06000053 | 33.01023 | 38.42265 | 23.8749 | 53.63942 | 51.52065 | 10.01011 | 1 | 36.43936 | -3.429131 | 16 |\n\n",
            "text/latex": "A data.frame: 1 × 13\n\\begin{tabular}{r|lllllllllllll}\n  & pt & geog & geogcode & QualLevel4 & Deprivation0 & Accommodation & Married & HealthVeryGood & OwnedMortgage & QL4 & fit1 & res1 & ball\\\\\n  & <int> & <chr> & <chr> & <dbl> & <dbl> & <dbl> & <dbl> & <dbl> & <dbl> & <dbl> & <dbl> & <dbl> & <dbl>\\\\\n\\hline\n\t325 & 150 & Isles of Scilly & E06000053 & 33.01023 & 38.42265 & 23.8749 & 53.63942 & 51.52065 & 10.01011 & 1 & 36.43936 & -3.429131 & 16\\\\\n\\end{tabular}\n",
            "text/plain": [
              "    pt  geog            geogcode  QualLevel4 Deprivation0 Accommodation\n",
              "325 150 Isles of Scilly E06000053 33.01023   38.42265     23.8749      \n",
              "    Married  HealthVeryGood OwnedMortgage QL4 fit1     res1      ball\n",
              "325 53.63942 51.52065       10.01011      1   36.43936 -3.429131 16  "
            ]
          },
          "metadata": {}
        }
      ]
    },
    {
      "cell_type": "code",
      "source": [
        ""
      ],
      "metadata": {
        "id": "05KuNrVabq25"
      },
      "execution_count": null,
      "outputs": []
    },
    {
      "cell_type": "markdown",
      "source": [
        "We can see that the region where the model overpredicts is the Isles of Scilly. Here the low OwnedMortgage would suggest a higher QualLevel4 than is observed given the negative coefficient on OwnedMortgage in the model. \n",
        "\n",
        "There are many more things that we may wish to do with modelling and considering residuals. For example we may look at binary classification models for the QL4 dummy. This workshop is intended to provide the basic building blocks for using Topological Data Analysis Ball Mapper."
      ],
      "metadata": {
        "id": "ggMNsFT-c4Pr"
      }
    },
    {
      "cell_type": "code",
      "source": [
        ""
      ],
      "metadata": {
        "id": "sQM_K4oVnMtG"
      },
      "execution_count": null,
      "outputs": []
    }
  ]
}