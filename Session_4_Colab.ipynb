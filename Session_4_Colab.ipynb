{
  "nbformat": 4,
  "nbformat_minor": 0,
  "metadata": {
    "colab": {
      "name": "Session 4 Colab.ipynb",
      "provenance": [],
      "authorship_tag": "ABX9TyO2dRzL4BlBM51yjRm4c2hO",
      "include_colab_link": true
    },
    "kernelspec": {
      "name": "ir",
      "display_name": "R"
    },
    "language_info": {
      "name": "R"
    },
    "gpuClass": "standard"
  },
  "cells": [
    {
      "cell_type": "markdown",
      "metadata": {
        "id": "view-in-github",
        "colab_type": "text"
      },
      "source": [
        "<a href=\"https://colab.research.google.com/github/srudkin12/RegionalBallMapper/blob/main/Session_4_Colab.ipynb\" target=\"_parent\"><img src=\"https://colab.research.google.com/assets/colab-badge.svg\" alt=\"Open In Colab\"/></a>"
      ]
    },
    {
      "cell_type": "markdown",
      "source": [
        "# **Session 4**\n",
        "\n",
        "Session 4 of the Topological Data Analysis Ball Mapper for Regional Analysis workshop is designed to be an informal look at some of the further functionality of BallMapper and a chance for participants to have a look at their own data. \n",
        "\n",
        "This notebook contains the results on regressions and the visualisation of residuals using BallMapper. Again you are encouraged to use this notebook in conjunction with the commentary file.\n",
        "\n",
        "Because this is a separate Colab notebook we need to install the packages and read in the data. The following block of code completes these steps."
      ],
      "metadata": {
        "id": "rQLklCCRNMe3"
      }
    },
    {
      "cell_type": "code",
      "execution_count": null,
      "metadata": {
        "id": "woBdk35mNKWY"
      },
      "outputs": [],
      "source": [
        "install.packages(\"dplyr\")\n",
        "install.packages(\"BallMapper\")\n",
        "install.packages(\"car\")\n",
        "library(dplyr)\n",
        "library(BallMapper)\n",
        "library(car)\n",
        "\n",
        "url = 'https://raw.githubusercontent.com/srudkin12/RegionalBallMapper/main/region1.csv'\n",
        "dtx<-read.table(url,sep=\",\",header=TRUE)\n"
      ]
    },
    {
      "cell_type": "markdown",
      "source": [
        "We now create our subset of variables as in Session 3"
      ],
      "metadata": {
        "id": "tjTp43FAR8qu"
      }
    },
    {
      "cell_type": "code",
      "source": [
        "dty<-cbind(dtx[,1:2],dtx$QualLevel4,dtx$Deprivation0,dtx$Accommodation,dtx$Married,dtx$HealthVeryGood,dtx$OwnedMortgage)\n",
        "names(dty)<-c(\"geog\",\"geogcode\",\"QualLevel4\",\"Deprivation0\",\"Accommodation\",\"Married\",\"HealthVeryGood\",\"OwnedMortgage\")\n",
        "dty$QL4<-as.numeric(dty$QualLevel4>33) # Areas where more than 1/3rd have Degrees"
      ],
      "metadata": {
        "id": "KK9NC0ahQO83"
      },
      "execution_count": null,
      "outputs": []
    },
    {
      "cell_type": "markdown",
      "source": [
        "In many regional datasets there are issues with strong correlations between variables. Therefore we must perform checks for multicollinearity\n",
        "\n",
        "We first check for correlations of 0.7 or above"
      ],
      "metadata": {
        "id": "M08w0sMISJPW"
      }
    },
    {
      "cell_type": "code",
      "source": [
        "cor(dty[,3:9])"
      ],
      "metadata": {
        "id": "VgrbjomNSBU0"
      },
      "execution_count": null,
      "outputs": []
    },
    {
      "cell_type": "markdown",
      "source": [
        "The highest absolute correlation is -0.660 between OwnedMortgage and Accommodation. This does not exceed the 0.7 threshold in absolute value\n",
        "\n",
        "The second approach is to use the variance inflation function. If you are unsure of the role of the VIF then please consult statistics books or web resources. For our purposes we are interested in whether there is a VIF above 10"
      ],
      "metadata": {
        "id": "_8AtnQARSkVu"
      }
    },
    {
      "cell_type": "code",
      "source": [
        "lm1<-lm(QualLevel4~Deprivation0+Accommodation+Married+HealthVeryGood+OwnedMortgage,data=dty)\n",
        "vif(lm1)"
      ],
      "metadata": {
        "id": "5MBGF1YwSVA_"
      },
      "execution_count": null,
      "outputs": []
    },
    {
      "cell_type": "markdown",
      "source": [
        "The highest VIF is well below the 10 threshold and so we will continue to use the lm1 model.\n",
        "\n",
        "We can produce a summary of the model using the following line of code:"
      ],
      "metadata": {
        "id": "OIDM77pwWYqV"
      }
    },
    {
      "cell_type": "code",
      "source": [
        "summary(lm1)"
      ],
      "metadata": {
        "id": "bWotdOslTEMc"
      },
      "execution_count": null,
      "outputs": []
    },
    {
      "cell_type": "markdown",
      "source": [
        "We will now use the fitted() function to create a new column of fitted values from the model lm1. This is stored as fit1. "
      ],
      "metadata": {
        "id": "iLW2rBsZXsMs"
      }
    },
    {
      "cell_type": "code",
      "source": [
        "dty$fit1<-fitted(lm1)"
      ],
      "metadata": {
        "id": "3LN1wCr-Wpll"
      },
      "execution_count": null,
      "outputs": []
    },
    {
      "cell_type": "markdown",
      "source": [
        "We may create a column of residuals by subtracting the fitted value from the true value of QualLevel4"
      ],
      "metadata": {
        "id": "EG6s_6BUYsKj"
      }
    },
    {
      "cell_type": "code",
      "source": [
        "dty$res1<-dty$QualLevel4-dty$fit1"
      ],
      "metadata": {
        "id": "0qdHKEVoZJ0L"
      },
      "execution_count": null,
      "outputs": []
    },
    {
      "cell_type": "markdown",
      "source": [
        "Now we have two extra outcomes to colour our BallMapper plot. The following code is built from the block in Session 3, but also includes the two new outputs. Notice that we also create the characteristics as a separate data.frame and then normalise using the function in the BallMapper package"
      ],
      "metadata": {
        "id": "DA40dzTDYsWr"
      }
    },
    {
      "cell_type": "code",
      "source": [
        "y1<-as.data.frame(dty$QualLevel4)\n",
        "y2<-as.data.frame(dty$QL4)\n",
        "y3<-as.data.frame(dty$fit1)\n",
        "y4<-as.data.frame(dty$res1)\n",
        "\n",
        "x1<-as.data.frame(dty[,4:8])\n",
        "\n",
        "x2<-normalize_to_min_0_max_1(x1)"
      ],
      "metadata": {
        "id": "IxqksaEeY8_a"
      },
      "execution_count": null,
      "outputs": []
    },
    {
      "cell_type": "markdown",
      "source": [
        "Let us now produce three BallMapper plots. One of the true value (t), one of the fitted values (f) and one of the residuals (r). Here we continue with the 0.3 radius identified in Session 3.\n",
        "\n",
        "Note that the code does not actually plot the BallMapper graphs so there will be no output"
      ],
      "metadata": {
        "id": "c3H70vqVZScz"
      }
    },
    {
      "cell_type": "code",
      "source": [
        "bm130t<-BallMapper(x2,y1,0.3)\n",
        "bm130f<-BallMapper(x2,y3,0.3) \n",
        "bm130r<-BallMapper(x2,y4,0.3)  "
      ],
      "metadata": {
        "id": "HcHrVxpuZQYa"
      },
      "execution_count": null,
      "outputs": []
    },
    {
      "cell_type": "markdown",
      "source": [
        "We may plot the BallMapper graphs using the plot function. Again to see the others the code may be slightly edited to replace the letter after bm130"
      ],
      "metadata": {
        "id": "fn_kVn4OadEr"
      }
    },
    {
      "cell_type": "code",
      "source": [
        "ColorIgraphPlot(bm130r,seed_for_plotting=123)"
      ],
      "metadata": {
        "id": "6oYkkFK2ZjLK"
      },
      "execution_count": null,
      "outputs": []
    },
    {
      "cell_type": "markdown",
      "source": [
        "An interesting result emerges here because the residuals are all positive on the edges of the graph, the main body has residuals near 0 as would be expected. The only strong negative residual appears in the outlier\n",
        "\n",
        "We will now bring in the user defined function points_to_balls and follow the same steps as in Session 3 to identify the local authority districts in ball 16"
      ],
      "metadata": {
        "id": "32sSy0YpbSla"
      }
    },
    {
      "cell_type": "code",
      "source": [
        "dty$pt<-seq(1:nrow(dty))\n",
        "\n",
        "points_to_balls<-function(l){\n",
        "  a001<-length(l$landmarks)\n",
        "  a1<-matrix(0,nrow=a001,ncol=2)\n",
        "  a1<-as.data.frame(a1)\n",
        "  names(a1)<-c(\"pt\",\"ball\")\n",
        "  for(i in 1:a001){\n",
        "    a<-as.data.frame(l$points_covered_by_landmarks[i])\n",
        "    names(a)<-\"pt\"\n",
        "    a$ball<-i\n",
        "    a1<-rbind.data.frame(a1,a)\n",
        "   }\n",
        "  a1<-a1[2:nrow(a1),]\n",
        "  return(a1)\n",
        "}\n",
        "\n",
        "bmp1<-points_to_balls(bm130r)\n",
        "bmp1<-as.data.frame(bmp1)\n",
        "names(bmp1)<-c(\"pt\",\"ball\")\n",
        "\n",
        "dtz<-merge(dty,bmp1,by=\"pt\")\n",
        "\n",
        "dtz16<-subset(dtz,dtz$ball==16)\n",
        "dtz16"
      ],
      "metadata": {
        "id": "xl7tq6y2bIxR"
      },
      "execution_count": null,
      "outputs": []
    },
    {
      "cell_type": "code",
      "source": [
        ""
      ],
      "metadata": {
        "id": "05KuNrVabq25"
      },
      "execution_count": null,
      "outputs": []
    },
    {
      "cell_type": "markdown",
      "source": [
        "We can see that the region where the model overpredicts is the Isles of Scilly. Here the low OwnedMortgage would suggest a higher QualLevel4 than is observed given the negative coefficient on OwnedMortgage in the model. \n",
        "\n",
        "There are many more things that we may wish to do with modelling and considering residuals. For example we may look at binary classification models for the QL4 dummy. This workshop is intended to provide the basic building blocks for using Topological Data Analysis Ball Mapper."
      ],
      "metadata": {
        "id": "ggMNsFT-c4Pr"
      }
    },
    {
      "cell_type": "code",
      "source": [
        ""
      ],
      "metadata": {
        "id": "sQM_K4oVnMtG"
      },
      "execution_count": null,
      "outputs": []
    }
  ]
}