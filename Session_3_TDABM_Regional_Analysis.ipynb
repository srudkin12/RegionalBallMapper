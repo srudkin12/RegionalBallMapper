{
  "nbformat": 4,
  "nbformat_minor": 0,
  "metadata": {
    "colab": {
      "name": "Session 3 TDABM Regional Analysis.ipynb",
      "private_outputs": true,
      "provenance": [],
      "authorship_tag": "ABX9TyP2BBCNJlhbRjpCq15tUEpH",
      "include_colab_link": true
    },
    "kernelspec": {
      "name": "ir",
      "display_name": "R"
    },
    "language_info": {
      "name": "R"
    },
    "gpuClass": "standard"
  },
  "cells": [
    {
      "cell_type": "markdown",
      "metadata": {
        "id": "view-in-github",
        "colab_type": "text"
      },
      "source": [
        "<a href=\"https://colab.research.google.com/github/srudkin12/RegionalBallMapper/blob/main/Session_3_TDABM_Regional_Analysis.ipynb\" target=\"_parent\"><img src=\"https://colab.research.google.com/assets/colab-badge.svg\" alt=\"Open In Colab\"/></a>"
      ]
    },
    {
      "cell_type": "code",
      "execution_count": null,
      "metadata": {
        "id": "tNOjch0K4HgY"
      },
      "outputs": [],
      "source": [
        ""
      ]
    },
    {
      "cell_type": "markdown",
      "source": [
        "This Google Colab document has been set up to run in R and contains the code for the Parts A and B of the Topological Data Analysis Ball Mapper for Regional Analysis workshop held at the University of Manchester on Thursday 14th July 2022\n",
        "\n",
        "For those unfamiliar with the operation of Jupyter Notebook based systems, to run a cell you need to either click the play button (the little triangle) or press SHIFT and ENTER at the same time.\n",
        "\n",
        "Although this document runs all of the code you need, it is encouraged to also make reference to the commentary documents available on the workshop GitHub page."
      ],
      "metadata": {
        "id": "JE8EHz8H4OaZ"
      }
    },
    {
      "cell_type": "code",
      "source": [
        "install.packages(\"dplyr\")\n",
        "install.packages(\"BallMapper\")\n",
        "library(dplyr)\n",
        "library(BallMapper)"
      ],
      "metadata": {
        "id": "q0qK_tyC46hB"
      },
      "execution_count": null,
      "outputs": []
    },
    {
      "cell_type": "markdown",
      "source": [
        "The following line differs from the code in the commentary and is especially for reading files directly from GitHub into the GoogleColab "
      ],
      "metadata": {
        "id": "sIgP5hu9BTFs"
      }
    },
    {
      "cell_type": "code",
      "source": [
        "url = 'https://raw.githubusercontent.com/srudkin12/RegionalBallMapper/main/region1.csv'\n",
        "dtx<-read.table(url,sep=\",\",header=TRUE)\n"
      ],
      "metadata": {
        "id": "4UIkBGt34_ap"
      },
      "execution_count": null,
      "outputs": []
    },
    {
      "cell_type": "markdown",
      "source": [
        "A first step is always to view the data to make sure that it appears as you would expect"
      ],
      "metadata": {
        "id": "-R8mM6z0Bg_k"
      }
    },
    {
      "cell_type": "code",
      "source": [
        "head(dtx)"
      ],
      "metadata": {
        "id": "rHZRt--6A2C0"
      },
      "execution_count": null,
      "outputs": []
    },
    {
      "cell_type": "markdown",
      "source": [
        "Let us view the correlations within the dataset"
      ],
      "metadata": {
        "id": "mV_J_Wf2Bt9c"
      }
    },
    {
      "cell_type": "code",
      "source": [
        "cor(dtx[,3:ncol(dtx)])"
      ],
      "metadata": {
        "id": "zXAgGk2hBQA8"
      },
      "execution_count": null,
      "outputs": []
    },
    {
      "cell_type": "markdown",
      "source": [
        "Given the high correlations between many pairs of variables, we will create a small subset of variables and call this dty. The final line creates a dummy variable for a local authority district having a percentage of households with at least one resident with a university degree being greater than 33%"
      ],
      "metadata": {
        "id": "_HX0rBqICDz0"
      }
    },
    {
      "cell_type": "code",
      "source": [
        "dty<-cbind(dtx[,1:2],dtx$QualLevel4,dtx$Deprivation0,dtx$Accommodation,dtx$Married,dtx$HealthVeryGood,dtx$OwnedMortgage)\n",
        "names(dty)<-c(\"geog\",\"geogcode\",\"QualLevel4\",\"Deprivation0\",\"Accommodation\",\"Married\",\"HealthVeryGood\",\"OwnedMortgage\")\n",
        "dty$QL4<-as.numeric(dty$QualLevel4>33) "
      ],
      "metadata": {
        "id": "Z7Vrwr4UBl_q"
      },
      "execution_count": null,
      "outputs": []
    },
    {
      "cell_type": "markdown",
      "source": [
        "Here we use a user defined function called sstatsmat to create a very simple summary statistics table. The remainder of the block then converts to a dataframe and displays. In this code we do not save to a .csv file."
      ],
      "metadata": {
        "id": "nnJLv3lUCnB5"
      }
    },
    {
      "cell_type": "code",
      "source": [
        "\n",
        "sstatsmat<-function(characteristics,decp){\n",
        " if(missing(decp)) decp <- 2\n",
        " a001<-ncol(characteristics)\n",
        " sstats<-matrix(0,nrow=a001,ncol=5)\n",
        " for(i in 1:a001){\n",
        "  j<-i\n",
        "  sstats[i,1]<-names(characteristics)[j]\n",
        "  sstats[i,2]<-round(mean(characteristics[,j]),decp)\n",
        "  sstats[i,3]<-round(sd(characteristics[,j]),decp)\n",
        "  sstats[i,4]<-round(min(characteristics[,j]),decp)\n",
        "  sstats[i,5]<-round(max(characteristics[,j]),decp)\n",
        " }\n",
        " return(sstats)\n",
        "}\n",
        "\n",
        "s001<-sstatsmat(dty[,3:8]) # Creates an object with the summary statistics\n",
        "s001<-as.data.frame(s001) # Convert to data frame\n",
        "names(s001)<-c(\"Variable\",\"Mean\",\"s.d.\",\"Min\",\"Max\")\n",
        "s001"
      ],
      "metadata": {
        "id": "ySjEMqcFCDJa"
      },
      "execution_count": null,
      "outputs": []
    },
    {
      "cell_type": "markdown",
      "source": [
        "Create the correlation matrix for the reduced data set"
      ],
      "metadata": {
        "id": "1rR8EHmbDCxL"
      }
    },
    {
      "cell_type": "code",
      "source": [
        "c001<-cor(dty[,3:8])\n",
        "c001"
      ],
      "metadata": {
        "id": "pQhJklmLClgI"
      },
      "execution_count": null,
      "outputs": []
    },
    {
      "cell_type": "markdown",
      "source": [
        "**Plotting**\n",
        "\n",
        "In this section we will be producing graphs. To save these please right click and then select the \"Save image as...\" option.\n",
        "\n",
        "We start with a basic scatter, setting the axis limits to 0,60 to reflect the ranges in the summary statistics table."
      ],
      "metadata": {
        "id": "4CpcIrLYDPt6"
      }
    },
    {
      "cell_type": "code",
      "source": [
        "plot(dty$Deprivation0,dty$Accommodation,pch=16,xlim=c(0,60),ylim=c(0,60),xlab=\"Deprivation 0\",ylab=\"Accommodation\")"
      ],
      "metadata": {
        "id": "DYYvil04C84b"
      },
      "execution_count": null,
      "outputs": []
    },
    {
      "cell_type": "markdown",
      "source": [
        "In order to visualise the data easier we will create two subsets..."
      ],
      "metadata": {
        "id": "HrQYgH8iDqJl"
      }
    },
    {
      "cell_type": "code",
      "source": [
        "dty0<-subset(dty,dty$QL4==0)\n",
        "dty1<-subset(dty,dty$QL4==1)"
      ],
      "metadata": {
        "id": "U6MJ9VVJDGPL"
      },
      "execution_count": null,
      "outputs": []
    },
    {
      "cell_type": "markdown",
      "source": [
        "Now we produce a graph on the 0 to 60 axis range with colouration according to the QL4 dummy created earlier"
      ],
      "metadata": {
        "id": "rLu3DXpWD0wb"
      }
    },
    {
      "cell_type": "code",
      "source": [
        "plot(dty0$Deprivation0,dty0$Accommodation,pch=16,xlim=c(0,60),ylim=c(0,60),xlab=\"Deprivation 0\",ylab=\"Accommodation\") # Note the limits are set based on summary statistics\n",
        "points(dty1$Deprivation0,dty1$Accommodation,pch=16,col=\"blue\")\n",
        "leg.text=c(\"Below 33%\",\"Above 33%\")\n",
        "legend(\"bottomleft\",leg.text,pch=16,col=c(\"black\",\"blue\"))"
      ],
      "metadata": {
        "id": "2AVxRmYwDwva"
      },
      "execution_count": null,
      "outputs": []
    },
    {
      "cell_type": "markdown",
      "source": [
        "In the second version of the plot we allow R to set the range based on the full set of data for the two axis varaibles. We then colour the points using the subsets. Remember with all the plots you can right click and select \"Save image as...\""
      ],
      "metadata": {
        "id": "4PMiTe29EHBC"
      }
    },
    {
      "cell_type": "code",
      "source": [
        "plot(dty$Deprivation0,dty$Accommodation,pch=16,xlab=\"Deprivation 0\",ylab=\"Accommodation\") # Note the limits are set based on the full data dty and not either dty1 or dty2\n",
        "points(dty1$Deprivation0,dty1$Accommodation,pch=16,col=\"blue\")\n",
        "points(dty0$Deprivation0,dty0$Accommodation,pch=16,col=\"red\")\n",
        "leg.text=c(\"Below 33%\",\"Above 33%\")\n",
        "legend(\"bottomleft\",leg.text,pch=16,col=c(\"red\",\"blue\"))"
      ],
      "metadata": {
        "id": "Vbsozbk2D-dR"
      },
      "execution_count": null,
      "outputs": []
    },
    {
      "cell_type": "code",
      "source": [
        ""
      ],
      "metadata": {
        "id": "P3h2rkA5EFwC"
      },
      "execution_count": null,
      "outputs": []
    },
    {
      "cell_type": "markdown",
      "source": [
        "# **Part B: Ball Mapper**\n",
        "\n",
        "From this point forward the example follows Part B of the commentary. Here we introduce BallMapper (Dlotko, 2019) and provide some very basic usage on the dty dataset that was created by following the part A code above.\n",
        "\n",
        "The first step is to make sure that our outcomes and axis variables are in data.frame objects ready for the BallMapper function"
      ],
      "metadata": {
        "id": "h6KjMRWDEdbL"
      }
    },
    {
      "cell_type": "code",
      "source": [
        "y1<-as.data.frame(dty$QualLevel4)\n",
        "y2<-as.data.frame(dty$QL4)\n",
        "x1<-as.data.frame(dty[,4:8])"
      ],
      "metadata": {
        "id": "5NK4o3X5ESbL"
      },
      "execution_count": null,
      "outputs": []
    },
    {
      "cell_type": "markdown",
      "source": [
        "We know already that Accommodation does not have the same range as some of the other variables. Therefore we use the normalisation function within the BallMapper package to put the variables in x1 onto the scale [0,1]"
      ],
      "metadata": {
        "id": "smUkRj7AFAF7"
      }
    },
    {
      "cell_type": "code",
      "source": [
        "x2<-normalize_to_min_0_max_1(x1)"
      ],
      "metadata": {
        "id": "KFeRVUu2FQER"
      },
      "execution_count": null,
      "outputs": []
    },
    {
      "cell_type": "markdown",
      "source": [
        "We may now create our first BallMapper plot. For this we need to specify the axis variables (x2), the outcome that we want to use for the colouration (y1) and the radius for the balls. Here we choose 0.3.\n",
        "\n",
        "Again if you wish to save the image you can right click and select \"Save image as...\""
      ],
      "metadata": {
        "id": "DSwqE_bEGPOT"
      }
    },
    {
      "cell_type": "code",
      "source": [
        "bm1<-BallMapper(x2,y1,0.3)\n",
        "ColorIgraphPlot(bm1,seed_for_plotting=123)"
      ],
      "metadata": {
        "id": "TC17r4fmFUDA"
      },
      "execution_count": null,
      "outputs": []
    },
    {
      "cell_type": "markdown",
      "source": [
        "We will now create BallMapper plots with different radii. Note that you will not see any output from this block of code and it may take a few moments to run"
      ],
      "metadata": {
        "id": "-hx920CrGlFj"
      }
    },
    {
      "cell_type": "code",
      "source": [
        "bm125<-BallMapper(x2,y1,0.25)\n",
        "bm130<-BallMapper(x2,y1,0.30)\n",
        "bm135<-BallMapper(x2,y1,0.35)\n",
        "bm140<-BallMapper(x2,y1,0.40)\n",
        "bm145<-BallMapper(x2,y1,0.45)\n",
        "bm150<-BallMapper(x2,y1,0.50)\n"
      ],
      "metadata": {
        "id": "QsCx7PNAGND5"
      },
      "execution_count": null,
      "outputs": []
    },
    {
      "cell_type": "markdown",
      "source": [
        "To view the BM graphs that have been created you can simply edit the bm125 in the block below to one of the other bm numbers (e.g. bm150). "
      ],
      "metadata": {
        "id": "wI22EIA5HLF6"
      }
    },
    {
      "cell_type": "code",
      "source": [
        "\n",
        "ColorIgraphPlot(bm125,seed_for_plotting=123)"
      ],
      "metadata": {
        "id": "85ydlyv1GaMC"
      },
      "execution_count": null,
      "outputs": []
    },
    {
      "cell_type": "markdown",
      "source": [
        "We can repeat the BallMapper graphs but this time use the QL4 dummy. The colour now represents the proportion of local authority districts within the ball that have a value of 1 on the QL4 dummy."
      ],
      "metadata": {
        "id": "nsAF1Ia9HepZ"
      }
    },
    {
      "cell_type": "code",
      "source": [
        "bm225<-BallMapper(x2,y2,0.25)\n",
        "bm230<-BallMapper(x2,y2,0.30)\n",
        "bm235<-BallMapper(x2,y2,0.35)\n",
        "bm240<-BallMapper(x2,y2,0.40)\n",
        "bm245<-BallMapper(x2,y2,0.45)\n",
        "bm250<-BallMapper(x2,y2,0.50)"
      ],
      "metadata": {
        "id": "W59t5PGRHT04"
      },
      "execution_count": null,
      "outputs": []
    },
    {
      "cell_type": "markdown",
      "source": [
        "As with the first set of BM plots here we will only write one plotting line and then leave it for editing to see the other radii. In the commentary bm230 is used."
      ],
      "metadata": {
        "id": "ywFXaLraImhC"
      }
    },
    {
      "cell_type": "code",
      "source": [
        "ColorIgraphPlot(bm225,seed_for_plotting=123)"
      ],
      "metadata": {
        "id": "_H8ZqueKIh6J"
      },
      "execution_count": null,
      "outputs": []
    },
    {
      "cell_type": "markdown",
      "source": [
        "This is all of the material covered in Session 3 of the Topological Data Analysis Ball Mapper for Regional Analysis workshop. You can find a Colab to go with the Session 4 on the GitHub page."
      ],
      "metadata": {
        "id": "QGHLjyU4I2EL"
      }
    },
    {
      "cell_type": "code",
      "source": [
        ""
      ],
      "metadata": {
        "id": "rhNtPiLkJCQY"
      },
      "execution_count": null,
      "outputs": []
    }
  ]
}